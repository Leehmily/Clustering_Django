{
 "cells": [
  {
   "cell_type": "code",
   "execution_count": 1,
   "metadata": {},
   "outputs": [],
   "source": [
    "import pandas as pd\n",
    "import numpy as np\n",
    "import re\n",
    "import os"
   ]
  },
  {
   "cell_type": "code",
   "execution_count": 2,
   "metadata": {},
   "outputs": [],
   "source": [
    "# 用来展现对于表和字段的选择\n",
    "def select_tables():\n",
    "    # import featuretools as ft\n",
    "    # import pandas as pd\n",
    "    # import numpy as np\n",
    "    # from featuretools.primitives import make_trans_primitive, make_agg_primitive\n",
    "    # from featuretools.variable_types import DatetimeTimeIndex, Numeric\n",
    "    # import os\n",
    "    # import re\n",
    "\n",
    "    # 将接口改成对应CSV的api\n",
    "    if not os.path.isdir(os.getcwd() + \"/demo_data1\"):\n",
    "        os.mkdir(os.getcwd() + \"/demo_data1\")\n",
    "    os.chdir(os.getcwd() + \"/demo_data1\")\n",
    "    print(os.getcwd())\n",
    "    print('------')\n",
    "    print(os.listdir(os.getcwd()))\n",
    "    regex = re.compile(\"csv\")\n",
    "    raw_dict = {}\n",
    "    for file in os.listdir(os.getcwd()):\n",
    "        print(file)\n",
    "        if re.search(regex, file):\n",
    "            raw_dict[file.split(\".\")[0]] = pd.read_csv(file)\n",
    "    data = raw_dict\n",
    "    os.chdir(\"..\")\n",
    "\n",
    "    columns_list = []\n",
    "    name_list = []\n",
    "\n",
    "    for k, v in data.items():\n",
    "        columns_list.append(list(v.columns))\n",
    "        name_list.append(k)\n",
    "    columns_dict = {k: v for k, v in zip(name_list, columns_list)}\n",
    "    return data, name_list, columns_list"
   ]
  },
  {
   "cell_type": "code",
   "execution_count": 3,
   "metadata": {},
   "outputs": [
    {
     "name": "stdout",
     "output_type": "stream",
     "text": [
      "D:\\S0000876\\Documents\\work-htsc\\lhaohtsc\\Django_FeatureTools-master\\Django_FeatureTools-master\\demo_data1\n",
      "------\n",
      "['Mall_Customers.csv']\n",
      "Mall_Customers.csv\n"
     ]
    }
   ],
   "source": [
    "data, name_list, columns_list = select_tables()"
   ]
  },
  {
   "cell_type": "code",
   "execution_count": 6,
   "metadata": {},
   "outputs": [
    {
     "data": {
      "text/plain": [
       "[['CustomerID',\n",
       "  'Genre',\n",
       "  'Age',\n",
       "  'Annual Income (k$)',\n",
       "  'Spending Score (1-100)']]"
      ]
     },
     "execution_count": 6,
     "metadata": {},
     "output_type": "execute_result"
    }
   ],
   "source": [
    "columns_list"
   ]
  },
  {
   "cell_type": "code",
   "execution_count": null,
   "metadata": {},
   "outputs": [],
   "source": []
  }
 ],
 "metadata": {
  "kernelspec": {
   "display_name": "Python 3",
   "language": "python",
   "name": "python3"
  },
  "language_info": {
   "codemirror_mode": {
    "name": "ipython",
    "version": 3
   },
   "file_extension": ".py",
   "mimetype": "text/x-python",
   "name": "python",
   "nbconvert_exporter": "python",
   "pygments_lexer": "ipython3",
   "version": "3.7.0"
  }
 },
 "nbformat": 4,
 "nbformat_minor": 2
}
