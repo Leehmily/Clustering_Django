{
 "cells": [
  {
   "cell_type": "code",
   "execution_count": 1,
   "metadata": {},
   "outputs": [],
   "source": [
    "import pandas as pd\n",
    "import numpy as np\n",
    "import re\n",
    "import os"
   ]
  },
  {
   "cell_type": "code",
   "execution_count": 8,
   "metadata": {},
   "outputs": [],
   "source": [
    "# 用来展现对于表和字段的选择\n",
    "def select_tables():\n",
    "    # import featuretools as ft\n",
    "    # import pandas as pd\n",
    "    # import numpy as np\n",
    "    # from featuretools.primitives import make_trans_primitive, make_agg_primitive\n",
    "    # from featuretools.variable_types import DatetimeTimeIndex, Numeric\n",
    "    # import os\n",
    "    # import re\n",
    "\n",
    "    # 将接口改成对应CSV的api\n",
    "    if not os.path.isdir(os.getcwd() + \"/demo_data1\"):\n",
    "        os.mkdir(os.getcwd() + \"/demo_data1\")\n",
    "    os.chdir(os.getcwd() + \"/demo_data1\")\n",
    "    print(os.getcwd())\n",
    "    print('------')\n",
    "    print(os.listdir(os.getcwd()))\n",
    "    regex = re.compile(\"csv\")\n",
    "    raw_dict = {}\n",
    "    for file in os.listdir(os.getcwd()):\n",
    "        print(file)\n",
    "        if re.search(regex, file):\n",
    "            raw_dict[file.split(\".\")[0]] = pd.read_csv(file)\n",
    "    data = raw_dict\n",
    "    os.chdir(\"..\")\n",
    "\n",
    "    columns_list = []\n",
    "    name_list = []\n",
    "\n",
    "    for k, v in data.items():\n",
    "        columns_list.append(list(v.columns))\n",
    "        name_list.append(k)\n",
    "    columns_dict = {k: v for k, v in zip(name_list, columns_list)}\n",
    "    return data, columns_dict"
   ]
  },
  {
   "cell_type": "code",
   "execution_count": 9,
   "metadata": {},
   "outputs": [
    {
     "name": "stdout",
     "output_type": "stream",
     "text": [
      "D:\\S0000876\\Documents\\work-htsc\\lhaohtsc\\Django_FeatureTools-master\\Django_FeatureTools-master\\demo_data1\n",
      "------\n",
      "['Mall_Customers.csv']\n",
      "Mall_Customers.csv\n"
     ]
    }
   ],
   "source": [
    "data, columns_dict = select_tables()"
   ]
  },
  {
   "cell_type": "code",
   "execution_count": 27,
   "metadata": {},
   "outputs": [
    {
     "data": {
      "text/plain": [
       "{'Mall_Customers': ['CustomerID',\n",
       "  'Genre',\n",
       "  'Age',\n",
       "  'Annual Income (k$)',\n",
       "  'Spending Score (1-100)']}"
      ]
     },
     "execution_count": 27,
     "metadata": {},
     "output_type": "execute_result"
    }
   ],
   "source": [
    "columns_dict"
   ]
  },
  {
   "cell_type": "code",
   "execution_count": 12,
   "metadata": {},
   "outputs": [
    {
     "name": "stdout",
     "output_type": "stream",
     "text": [
      "Mall_Customers ['CustomerID', 'Genre', 'Age', 'Annual Income (k$)', 'Spending Score (1-100)']\n"
     ]
    }
   ],
   "source": [
    "for k,v in columns_dict.items():\n",
    "    print (k,v)"
   ]
  },
  {
   "cell_type": "code",
   "execution_count": 22,
   "metadata": {},
   "outputs": [],
   "source": [
    "data_feature = [v for v in columns_dict.values()][0]"
   ]
  },
  {
   "cell_type": "code",
   "execution_count": 26,
   "metadata": {},
   "outputs": [],
   "source": [
    "data_df_kmeans = list(data.values())[0][data_feature[2:]]"
   ]
  },
  {
   "cell_type": "code",
   "execution_count": null,
   "metadata": {},
   "outputs": [],
   "source": [
    "km = KMeans(n_clusters = n_cluster, max_iter = max_iter, tol = tol)\n",
    "cluster = km.fit(data_df_kmeans)"
   ]
  },
  {
   "cell_type": "code",
   "execution_count": 28,
   "metadata": {},
   "outputs": [],
   "source": [
    "name = 'kmeans_elbow_curve2.png'\n",
    "picnamenew = '/static/images/' + name"
   ]
  },
  {
   "cell_type": "code",
   "execution_count": 29,
   "metadata": {},
   "outputs": [
    {
     "data": {
      "text/plain": [
       "'/static/images/kmeans_elbow_curve2.png'"
      ]
     },
     "execution_count": 29,
     "metadata": {},
     "output_type": "execute_result"
    }
   ],
   "source": [
    "picnamenew"
   ]
  },
  {
   "cell_type": "code",
   "execution_count": 30,
   "metadata": {},
   "outputs": [
    {
     "data": {
      "text/plain": [
       "['/static/images/kmeans_elbow_curve2.png']"
      ]
     },
     "execution_count": 30,
     "metadata": {},
     "output_type": "execute_result"
    }
   ],
   "source": [
    "images = [picnamenew]\n",
    "images"
   ]
  },
  {
   "cell_type": "code",
   "execution_count": 31,
   "metadata": {},
   "outputs": [
    {
     "name": "stdout",
     "output_type": "stream",
     "text": [
      "/static/images/kmeans_elbow_curve2.png\n"
     ]
    }
   ],
   "source": [
    "for i in images:\n",
    "    print(i)"
   ]
  },
  {
   "cell_type": "code",
   "execution_count": 33,
   "metadata": {},
   "outputs": [
    {
     "ename": "ModuleNotFoundError",
     "evalue": "No module named 'tokenizer.universal_tokenizer'",
     "output_type": "error",
     "traceback": [
      "\u001b[1;31m---------------------------------------------------------------------------\u001b[0m",
      "\u001b[1;31mModuleNotFoundError\u001b[0m                       Traceback (most recent call last)",
      "\u001b[1;32m<ipython-input-33-274adf717a93>\u001b[0m in \u001b[0;36m<module>\u001b[1;34m()\u001b[0m\n\u001b[1;32m----> 1\u001b[1;33m \u001b[1;32mfrom\u001b[0m \u001b[0mtokenizer\u001b[0m\u001b[1;33m.\u001b[0m\u001b[0muniversal_tokenizer\u001b[0m \u001b[1;32mimport\u001b[0m \u001b[0mword_pattern\u001b[0m\u001b[1;33m\u001b[0m\u001b[0m\n\u001b[0m",
      "\u001b[1;31mModuleNotFoundError\u001b[0m: No module named 'tokenizer.universal_tokenizer'"
     ]
    }
   ],
   "source": [
    "from tokenizer.universal_tokenizer import word_pattern"
   ]
  },
  {
   "cell_type": "code",
   "execution_count": 34,
   "metadata": {},
   "outputs": [],
   "source": [
    "import tokenizer"
   ]
  },
  {
   "cell_type": "code",
   "execution_count": null,
   "metadata": {},
   "outputs": [],
   "source": [
    "tokenizer.tokenizer."
   ]
  },
  {
   "cell_type": "code",
   "execution_count": null,
   "metadata": {},
   "outputs": [],
   "source": []
  }
 ],
 "metadata": {
  "kernelspec": {
   "display_name": "Python 3",
   "language": "python",
   "name": "python3"
  },
  "language_info": {
   "codemirror_mode": {
    "name": "ipython",
    "version": 3
   },
   "file_extension": ".py",
   "mimetype": "text/x-python",
   "name": "python",
   "nbconvert_exporter": "python",
   "pygments_lexer": "ipython3",
   "version": "3.7.0"
  }
 },
 "nbformat": 4,
 "nbformat_minor": 2
}
